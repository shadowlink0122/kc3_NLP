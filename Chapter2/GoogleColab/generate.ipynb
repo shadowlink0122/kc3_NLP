{
  "nbformat": 4,
  "nbformat_minor": 0,
  "metadata": {
    "colab": {
      "name": "generate.ipynb",
      "version": "0.3.2",
      "provenance": []
    },
    "kernelspec": {
      "name": "python3",
      "display_name": "Python 3"
    },
    "accelerator": "GPU"
  },
  "cells": [
    {
      "cell_type": "markdown",
      "metadata": {
        "id": "UvFpNm50npik",
        "colab_type": "text"
      },
      "source": [
        "GoogleDriveをマウントして、自分のディレクトリとして扱う。"
      ]
    },
    {
      "cell_type": "code",
      "metadata": {
        "id": "AHWWYyl-AlBS",
        "colab_type": "code",
        "outputId": "8d55a8d2-11c0-4030-a8b5-bfea8c3d4b4a",
        "colab": {
          "base_uri": "https://localhost:8080/",
          "height": 122
        }
      },
      "source": [
        "from google.colab import drive\n",
        "drive.mount('/content/gdrive')"
      ],
      "execution_count": 0,
      "outputs": [
        {
          "output_type": "stream",
          "text": [
            "Go to this URL in a browser: https://accounts.google.com/o/oauth2/auth?client_id=947318989803-6bn6qk8qdgf4n4g3pfee6491hc0brc4i.apps.googleusercontent.com&redirect_uri=urn%3Aietf%3Awg%3Aoauth%3A2.0%3Aoob&scope=email%20https%3A%2F%2Fwww.googleapis.com%2Fauth%2Fdocs.test%20https%3A%2F%2Fwww.googleapis.com%2Fauth%2Fdrive%20https%3A%2F%2Fwww.googleapis.com%2Fauth%2Fdrive.photos.readonly%20https%3A%2F%2Fwww.googleapis.com%2Fauth%2Fpeopleapi.readonly&response_type=code\n",
            "\n",
            "Enter your authorization code:\n",
            "··········\n",
            "Mounted at /content/gdrive\n"
          ],
          "name": "stdout"
        }
      ]
    },
    {
      "cell_type": "markdown",
      "metadata": {
        "id": "4ayT8A7wn00t",
        "colab_type": "text"
      },
      "source": [
        "ディレクトリの中身を確認"
      ]
    },
    {
      "cell_type": "code",
      "metadata": {
        "id": "qygTfFYIAmPl",
        "colab_type": "code",
        "outputId": "915de1f6-f9f1-420a-de87-9a96705f511d",
        "colab": {
          "base_uri": "https://localhost:8080/",
          "height": 34
        }
      },
      "source": [
        "!ls gdrive/My\\ Drive/NLP"
      ],
      "execution_count": 0,
      "outputs": [
        {
          "output_type": "stream",
          "text": [
            "corpus\tnormal.hdf5\n"
          ],
          "name": "stdout"
        }
      ]
    },
    {
      "cell_type": "markdown",
      "metadata": {
        "id": "471ZT6vrn9Aa",
        "colab_type": "text"
      },
      "source": [
        "Chainerをインストールしましょう。"
      ]
    },
    {
      "cell_type": "code",
      "metadata": {
        "id": "m1ZkzoKzniRs",
        "colab_type": "code",
        "outputId": "8e12a224-0f97-4210-9c81-dceabcfeb9f7",
        "colab": {
          "base_uri": "https://localhost:8080/",
          "height": 221
        }
      },
      "source": [
        "!curl https://colab.chainer.org/install | sh -"
      ],
      "execution_count": 0,
      "outputs": [
        {
          "output_type": "stream",
          "text": [
            "  % Total    % Received % Xferd  Average Speed   Time    Time     Time  Current\n",
            "                                 Dload  Upload   Total   Spent    Left  Speed\n",
            "\r  0     0    0     0    0     0      0      0 --:--:-- --:--:-- --:--:--     0\r100  1580  100  1580    0     0   5808      0 --:--:-- --:--:-- --:--:--  5808\n",
            "+ apt -y -q install cuda-libraries-dev-10-0\n",
            "Reading package lists...\n",
            "Building dependency tree...\n",
            "Reading state information...\n",
            "cuda-libraries-dev-10-0 is already the newest version (10.0.130-1).\n",
            "0 upgraded, 0 newly installed, 0 to remove and 8 not upgraded.\n",
            "+ pip install -q cupy-cuda100  chainer \n",
            "+ set +ex\n",
            "Installation succeeded!\n"
          ],
          "name": "stdout"
        }
      ]
    },
    {
      "cell_type": "markdown",
      "metadata": {
        "id": "FmxmbJuTvDzj",
        "colab_type": "text"
      },
      "source": [
        "ライブラリのインポート"
      ]
    },
    {
      "cell_type": "code",
      "metadata": {
        "id": "L9q5Y8bQvG54",
        "colab_type": "code",
        "colab": {}
      },
      "source": [
        "import numpy as np\n",
        "import codecs\n",
        "import sys\n",
        "import chainer\n",
        "from chainer import training, datasets, iterators, optimizers\n",
        "import chainer.functions as F\n",
        "import chainer.links as L\n",
        "from chainer.training import extensions"
      ],
      "execution_count": 0,
      "outputs": []
    },
    {
      "cell_type": "markdown",
      "metadata": {
        "id": "64AuAriOvLgT",
        "colab_type": "text"
      },
      "source": [
        "RNNモデル定義"
      ]
    },
    {
      "cell_type": "code",
      "metadata": {
        "id": "IKCS-GClvQP8",
        "colab_type": "code",
        "colab": {}
      },
      "source": [
        "class Generate_RNN(chainer.Chain):\n",
        "\tdef __init__(self, words_size, nodes):\n",
        "\t\tsuper(Generate_RNN, self).__init__()\n",
        "\t\twith self.init_scope():\n",
        "\t\t\t# Embed -> 埋め込み\n",
        "\t\t\t# LSTM -> Long Sort Term Memory\n",
        "\t\t\tself.embed = L.EmbedID(words_size, words_size)\n",
        "\t\t\tself.l1 = L.LSTM(words_size, nodes)\n",
        "\t\t\tself.l2 = L.LSTM(nodes, nodes)\n",
        "\t\t\tself.l3 = L.Linear(nodes, words_size)\n",
        "\n",
        "\tdef reset_state(self):\n",
        "\t\tself.l1.reset_state()\n",
        "\t\tself.l2.reset_state()\n",
        "\n",
        "\tdef __call__(self, x):\n",
        "\t\th0 = self.embed(x)\n",
        "\t\th1 = self.l1(h0)\n",
        "\t\th2 = self.l2(h1)\n",
        "\t\ty = self.l3(h2)\n",
        "\t\treturn y"
      ],
      "execution_count": 0,
      "outputs": []
    },
    {
      "cell_type": "code",
      "metadata": {
        "id": "vjZxA-GGva5l",
        "colab_type": "code",
        "colab": {}
      },
      "source": [
        "class RNNUpdater(training.StandardUpdater):\n",
        "\tdef __init__(self, train_iter, optimizer, device, cp):\n",
        "\t\tsuper(RNNUpdater, self).__init__(\n",
        "\t\t\ttrain_iter,\n",
        "\t\t\toptimizer,\n",
        "\t\t\tdevice=device,\n",
        "\t\t)\n",
        "\t\tself.cp = cp\n",
        "\n",
        "\tdef update_core(self):\n",
        "\t\tloss = 0\n",
        "\n",
        "\t\t# IteratorとOptimizerの取得\n",
        "\t\ttrain_iter = self.get_iterator(\"main\")\n",
        "\t\toptimizer = self.get_optimizer(\"main\")\n",
        "\n",
        "\t\t# Modelの取得\n",
        "\t\tmodel = optimizer.target\n",
        "\t\t# 文をバッチ取得(足りないものを埋める)\n",
        "\t\tx = train_iter.__next__()\n",
        "\t\t# モデルのステータスをリセット\n",
        "\t\tmodel.reset_state()\n",
        "\n",
        "\t\t# 文の単語をRNNに学習させる\n",
        "\t\tfor i in range(len(x[0])-1):\n",
        "\t\t\t# バッチ処理の配列\n",
        "\t\t\tbatch = self.cp.array([s[i] for s in x], dtype=self.cp.int32)\n",
        "\t\t\t# 正解ラベル\n",
        "\t\t\tt = self.cp.array([s[i+1] for s in x], dtype=self.cp.int32)\n",
        "\n",
        "\t\t\t#終端文字なら終わり\n",
        "\t\t\tif self.cp.min(batch) == 1 and self.cp.max(batch) == 1:\n",
        "\t\t\t\tbreak\n",
        "\n",
        "\t\t\t# RNNを１回実行\n",
        "\t\t\ty = model(batch)\n",
        "\t\t\t# 損失を求める\n",
        "\t\t\tloss += F.softmax_cross_entropy(y, t)\n",
        "\n",
        "\t\t# 逆伝播\n",
        "\t\toptimizer.target.cleargrads()\n",
        "\t\tloss.backward()\n",
        "\t\toptimizer.update()\n"
      ],
      "execution_count": 0,
      "outputs": []
    },
    {
      "cell_type": "markdown",
      "metadata": {
        "id": "oXpCAJBJvcos",
        "colab_type": "text"
      },
      "source": [
        "GPUの設定"
      ]
    },
    {
      "cell_type": "code",
      "metadata": {
        "id": "ZuIXJUEuvoEl",
        "colab_type": "code",
        "colab": {}
      },
      "source": [
        "uses_device = 0\n",
        "\n",
        "cp = np\n",
        "if uses_device >= 0:\n",
        "  import cupy as cp\n",
        "  import chainer.cuda\n",
        "  \n",
        "if uses_device >= 0:\n",
        "\tchainer.cuda.get_device_from_id(0).use()\n",
        "\tchainer.cuda.check_cuda_available()\n",
        "\tmodel.to_gpu()"
      ],
      "execution_count": 0,
      "outputs": []
    },
    {
      "cell_type": "markdown",
      "metadata": {
        "id": "okif4n1RwAbS",
        "colab_type": "text"
      },
      "source": [
        "読み込み、保存ファイル名の定義"
      ]
    },
    {
      "cell_type": "code",
      "metadata": {
        "id": "4S6TkkOfvrhL",
        "colab_type": "code",
        "colab": {}
      },
      "source": [
        "train_data = './gdrive/My Drive/NLP/corpus/all-sentence.txt'\n",
        "conb_data = './gdrive/My Drive/NLP/corpus/all-words.txt'\n",
        "model_file = './gdrive/My Drive/NLP/normal.hdf5'"
      ],
      "execution_count": 0,
      "outputs": []
    },
    {
      "cell_type": "markdown",
      "metadata": {
        "id": "0dZ9oMiyy9mK",
        "colab_type": "text"
      },
      "source": [
        "単語リストの読み込み"
      ]
    },
    {
      "cell_type": "code",
      "metadata": {
        "id": "vuT9RLcr5JZ_",
        "colab_type": "code",
        "colab": {}
      },
      "source": [
        "w = codecs.open(conb_data, \"r\", \"utf-8\")\n",
        "words = {}"
      ],
      "execution_count": 0,
      "outputs": []
    },
    {
      "cell_type": "code",
      "metadata": {
        "id": "_vsIsJCl5R2b",
        "colab_type": "code",
        "colab": {}
      },
      "source": [
        "# 行の中の単語をリスト化\n",
        "line = w.readline()\n",
        "while line:\n",
        "\tl = line.split(\",\")\n",
        "\tif len(l) >= 2:\n",
        "\t\twords[int(l[0])] = l[1].strip()\n",
        "\tline = w.readline()\n",
        "w.close()"
      ],
      "execution_count": 0,
      "outputs": []
    },
    {
      "cell_type": "markdown",
      "metadata": {
        "id": "FU_WOOq25WUC",
        "colab_type": "text"
      },
      "source": [
        "モデルの生成\n"
      ]
    },
    {
      "cell_type": "code",
      "metadata": {
        "id": "6pqXUTlD5We5",
        "colab_type": "code",
        "colab": {}
      },
      "source": [
        "model = Generate_RNN(len(words)+2, 200)\n",
        "\n",
        "# 学習結果の読み込み\n",
        "chainer.serializers.load_hdf5(model_file, model)"
      ],
      "execution_count": 0,
      "outputs": []
    },
    {
      "cell_type": "markdown",
      "metadata": {
        "id": "jV4h_F_g5sDU",
        "colab_type": "text"
      },
      "source": [
        "各種パラメータ"
      ]
    },
    {
      "cell_type": "code",
      "metadata": {
        "id": "PYQG__yK5x5Y",
        "colab_type": "code",
        "colab": {}
      },
      "source": [
        "words_max = 50\n",
        "beam_w = 10\n",
        "sentence = []\n",
        "model_history = [model]\n",
        "cur_sentence = [0]\n",
        "cur_score = []\n",
        "max_score = 0"
      ],
      "execution_count": 0,
      "outputs": []
    },
    {
      "cell_type": "markdown",
      "metadata": {
        "id": "GPW6Y7aE54mR",
        "colab_type": "text"
      },
      "source": [
        "木探索の関数定義"
      ]
    },
    {
      "cell_type": "code",
      "metadata": {
        "id": "rKi-Xt5G54C9",
        "colab_type": "code",
        "colab": {}
      },
      "source": [
        "def Tree_Traverse():\n",
        "\tglobal max_score\n",
        "\n",
        "\tcur_word = cur_sentence[-1]\n",
        "\tscore = np.prod(cur_score)\n",
        "\tdeep = len(cur_sentence)\n",
        "\n",
        "\t# 枝狩り\n",
        "\tif deep > 5 and max_score*0.6 > score:\n",
        "\t\treturn\n",
        "\n",
        "\t# 終端文字または最大の文の長さ以上なら、文を追加して終了\n",
        "\tif cur_word == 1 or deep > words_max:\n",
        "\t\tdata = np.array(cur_sentence)\n",
        "\t\tsentence.append((score, data))\n",
        "\t\tif max_score < score:\n",
        "\t\t\tmax_score = score\n",
        "\t\treturn\n",
        "\n",
        "\tcur_model = model_history[-1].copy()\n",
        "\tx = cp.array([cur_word], dtype=cp.int32)\n",
        "\ty = cur_model(x)\n",
        "\tz = F.softmax(y)\n",
        "\tresult = z.data[0]\n",
        "\n",
        "\tif uses_device >= 0: result = chainer.cuda.to_cpu(result)\n",
        "\tp = np.argsort(result)[::-1]\n",
        "\n",
        "\tmodel_history.append(cur_model)\n",
        "\tfor i in range(beam_w):\n",
        "\t\tcur_sentence.append(p[i])\n",
        "\t\tcur_score.append(result[p[i]])\n",
        "\t\tTree_Traverse()\n",
        "\t\tcur_sentence.pop()\n",
        "\t\tcur_score.pop()\n",
        "\tmodel_history.pop()"
      ],
      "execution_count": 0,
      "outputs": []
    },
    {
      "cell_type": "markdown",
      "metadata": {
        "id": "jfkia9iB5_vm",
        "colab_type": "text"
      },
      "source": [
        "木探索の実行および、スコアの高い文章の表示"
      ]
    },
    {
      "cell_type": "code",
      "metadata": {
        "id": "RmWL4zsK6AMW",
        "colab_type": "code",
        "outputId": "eaeb6907-116e-4b5b-be03-d35244ded2de",
        "colab": {
          "base_uri": "https://localhost:8080/",
          "height": 697
        }
      },
      "source": [
        "# 木探索で探索で文章を作成\n",
        "Tree_Traverse()\n",
        "\n",
        "# スコアの高いものから順に表示\n",
        "result_set = sorted(sentence, key=lambda x: x[0])[::-1]\n",
        "\n",
        "for i in range(min([20, len(result_set)])):\n",
        "\ts, l = result_set[i]\n",
        "\tr = str(s) + \"\\t\"\n",
        "\tfor w in l:\n",
        "\t\tif w > 1:\n",
        "\t\t\tr += words[w]\n",
        "\tr += \"\\n\"\n",
        "\n",
        "\tprint(r)"
      ],
      "execution_count": 0,
      "outputs": [
        {
          "output_type": "stream",
          "text": [
            "0.00018694038\tキャロル自筆の原本は現在大英博物館に収蔵されている\n",
            "\n",
            "0.00018608986\tアリスがそれを飲むと、身長が約に縮んだ\n",
            "\n",
            "3.3501434e-05\tアリスはどうやら夢を見ていた\n",
            "\n",
            "2.7118393e-05\tアリスがそれを食べると、今度は身体が大きくなりすぎてしまう\n",
            "\n",
            "2.1547747e-05\tアリスは、陪審員の動物たちに混じって裁判を見物する\n",
            "\n",
            "1.5762826e-05\tアリスはどうやら夢を見ていたらしい\n",
            "\n",
            "1.22637775e-05\t『パブリッシャー・サーキュラー』\n",
            "\n",
            "9.561816e-06\tまたパロディ詩\n",
            "\n",
            "6.175095e-06\tまた児童小説\n",
            "\n",
            "3.0908795e-06\t前作同様\n",
            "\n",
            "2.7796455e-06\tまた児童\n",
            "\n",
            "1.936947e-06\tまた児童文学\n",
            "\n",
            "1.4593134e-06\tこの話に対して\n",
            "\n",
            "1.4455303e-06\t前作から同様\n",
            "\n",
            "1.0002511e-06\t年の月\n",
            "\n",
            "5.983845e-07\tまた児童パロディ\n",
            "\n",
            "4.3602267e-07\tこの話も\n",
            "\n",
            "3.3054778e-07\tアリスに言わ\n",
            "\n",
            "2.9289805e-07\tまたパロディ本\n",
            "\n",
            "2.4298518e-07\t『パブリッシャー・サーキュラー）\n",
            "\n"
          ],
          "name": "stdout"
        }
      ]
    }
  ]
}